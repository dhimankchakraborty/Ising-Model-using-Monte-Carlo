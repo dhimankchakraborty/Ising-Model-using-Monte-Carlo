{
 "cells": [
  {
   "cell_type": "code",
   "execution_count": 3,
   "id": "a02af6bc",
   "metadata": {},
   "outputs": [],
   "source": [
    "import numpy as np\n",
    "import numpy.random as rn\n",
    "from numba import jit, njit, prange"
   ]
  },
  {
   "cell_type": "code",
   "execution_count": 4,
   "id": "faea7b25",
   "metadata": {},
   "outputs": [],
   "source": [
    "# @njit\n",
    "# @jit(nopython=True, parallel=True)\n",
    "def random_initial_state_generator(L, concentration): # Checked OK\n",
    "    state = np.zeros((L, L, L))\n",
    "    index_list = []\n",
    "\n",
    "\n",
    "    for i in prange(L):\n",
    "        for j in prange(L):\n",
    "            for k in prange(L):\n",
    "                if rn.rand() <= 0.5:\n",
    "                    state[i, j, k] = -1\n",
    "                else:\n",
    "                    state[i, j, k] = 1\n",
    "\n",
    "    for i in prange(L):\n",
    "        for j in prange(L):\n",
    "            for k in prange(L):\n",
    "                index_list.append([i, j, k])\n",
    "\n",
    "    rn.shuffle(index_list)\n",
    "\n",
    "    for i in prange(int(round(((1 - concentration) * L * L * L), 5))):\n",
    "        coordinate = index_list.pop(0)\n",
    "        state[coordinate[0], coordinate[1], coordinate[2]] = 0\n",
    "    \n",
    "    return state\n",
    "\n",
    "\n",
    "\n",
    "# @jit(nopython=True, parallel=True)\n",
    "def initial_state_test(L, state):\n",
    "    test_conc = 0\n",
    "\n",
    "    for i in prange(L):\n",
    "        for j in prange(L):\n",
    "            for k in prange(L):\n",
    "                if state[i, j, k] == 0:\n",
    "                    test_conc += 1\n",
    "    \n",
    "    return (test_conc / (L * L * L))"
   ]
  },
  {
   "cell_type": "code",
   "execution_count": 11,
   "id": "7287121b",
   "metadata": {},
   "outputs": [
    {
     "name": "stdout",
     "output_type": "stream",
     "text": [
      "0.2\n"
     ]
    }
   ],
   "source": [
    "L = 20\n",
    "concentration = 0.80\n",
    "random_state = random_initial_state_generator(L, concentration)\n",
    "print(initial_state_test(L, random_state))"
   ]
  }
 ],
 "metadata": {
  "kernelspec": {
   "display_name": "Python 3",
   "language": "python",
   "name": "python3"
  },
  "language_info": {
   "codemirror_mode": {
    "name": "ipython",
    "version": 3
   },
   "file_extension": ".py",
   "mimetype": "text/x-python",
   "name": "python",
   "nbconvert_exporter": "python",
   "pygments_lexer": "ipython3",
   "version": "3.13.5"
  }
 },
 "nbformat": 4,
 "nbformat_minor": 5
}
